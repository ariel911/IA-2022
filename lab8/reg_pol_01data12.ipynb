{
  "cells": [
    {
      "cell_type": "markdown",
      "metadata": {
        "id": "v14L-L099B4-"
      },
      "source": [
        "# Ejercicio de programación Regresión Polinomial"
      ]
    },
    {
      "cell_type": "code",
      "execution_count": 7,
      "metadata": {
        "colab": {
          "base_uri": "https://localhost:8080/"
        },
        "id": "LhERtghFlVGr",
        "outputId": "a729c8dd-356c-46f3-907e-3b6825dd0341"
      },
      "outputs": [
        {
          "output_type": "stream",
          "name": "stdout",
          "text": [
            "Drive already mounted at /content/gdrive; to attempt to forcibly remount, call drive.mount(\"/content/gdrive\", force_remount=True).\n"
          ]
        }
      ],
      "source": [
        "from google.colab import drive\n",
        "drive.mount(\"/content/gdrive\")"
      ]
    },
    {
      "cell_type": "code",
      "execution_count": 8,
      "metadata": {
        "id": "3FvMrI1J9B5A"
      },
      "outputs": [],
      "source": [
        "# utilizado para manejos de directorios y rutas\n",
        "import os\n",
        "\n",
        "# Computacion vectorial y cientifica para python\n",
        "import numpy as np\n",
        "\n",
        "# Librerias para graficación (trazado de gráficos)\n",
        "from matplotlib import pyplot\n",
        "from mpl_toolkits.mplot3d import Axes3D  # Necesario para graficar superficies 3D\n",
        "\n",
        "# llama a matplotlib a embeber graficas dentro de los cuadernillos\n",
        "%matplotlib inline"
      ]
    },
    {
      "cell_type": "markdown",
      "metadata": {
        "id": "LFPSpSF29B5B"
      },
      "source": [
        "## 2 Regresión polinomica en casos de neumonia de tres departamentos\n",
        "\n",
        "\n",
        "Se implementa la regresion polinomial para predecir el la capacidad adquisitiva de una persona. El archivo `data12.txt` contiene un dataset de los casos de neumonia de 3 departamentos  de bolivia Potosi,Oruro,La Paz. que estan entre los meses de abril,mayo,junio,julio. La primera columna es de Potosi, la segunda columna es de Oruro y la tercera columna es de La Paz.\n",
        "\n",
        "<a id=\"section4\"></a>\n"
      ]
    },
    {
      "cell_type": "code",
      "execution_count": 9,
      "metadata": {
        "id": "AxW2gEpi9B5B",
        "scrolled": true
      },
      "outputs": [],
      "source": [
        "# Cargar datos\n",
        "#data = np.loadtxt(os.path.join('Datasets', 'capacidad_adquisitiva.csv'), delimiter=';')\n",
        "#from numpy import genfromtxt\n",
        "#data = genfromtxt(os.path.join('Datasets', 'capacidad_adquisitiva.csv'), delimiter=';')\n",
        "data = np.loadtxt('/content/gdrive/MyDrive/Colab Notebooks/Labs/data12.txt', delimiter=\",\",skiprows=1)\n",
        "#print(data)\n",
        "y = data[:, -1]\n",
        "X = data[:,:3]\n",
        "m = y.size\n",
        "#print(X)\n",
        "#print(y)\n",
        "# imprimir algunos puntos de datos\n",
        "#print('{:>8s}{:>10s}'.format(X, y))\n",
        "#print('-'*26)\n"
      ]
    },
    {
      "cell_type": "markdown",
      "metadata": {
        "id": "nebQ6gDk9B5C"
      },
      "source": [
        "La desviación estándar es una forma de medir cuánta variación hay en el rango de valores de una característica en particular (la mayoría de los puntos caeran en un rango de ± 2 en relación a la desviaciones estándar de la media); esta es una alternativa a tomar el rango de valores (max-min). En `numpy`, se puede usar la función `std` para calcular la desviacion estandar. \n",
        "\n",
        "Por ejemplo, la caracteristica`X[:, 0]` contiene todos los valores de $x_1$ (edades) en el conjunto de entrenamiento, entonces `np.std(X[:, 0])` calcula la desviacion estandar de las edades.\n",
        "En el momento en que se llama a la función `featureNormalize`, la columna adicional de unos correspondiente a $ x_0 = 1 $ aún no se ha agregado a $ X $. \n",
        "\n",
        "<div class=\"alert alert-block alert-warning\">\n",
        "**Notas para la implementación:** Cuando se normalize una caracteristica, es importante almacenar los valores usados para la normalización - el valor de la media y el valor de la desviación estandar usado para los calculos. Despues de aprender los parametros del modelo, se deseara predecir la capacidad adquisitiva que no se han visto antes. Dado un nuevo valor de x (edad), primero se debe normalizar x usando la media y la desviacion estandar que se empleo anteriormente en el conjunto de entrenamiento para entrenar el modelo.\n",
        "</div>\n",
        "<a id=\"featureNormalize\"></a>"
      ]
    },
    {
      "cell_type": "code",
      "execution_count": 10,
      "metadata": {
        "id": "tppUto7Y9B5C"
      },
      "outputs": [],
      "source": [
        "def plotData(x, y):\n",
        "    #Grafica los puntos x e y en una figura nueva. \n",
        "    \n",
        "    fig = pyplot.figure()  # abre una nueva figura\n",
        "    \n",
        "    pyplot.plot(x, y, 'ro', ms=10, mec='k')\n",
        "    pyplot.ylabel('Edad personas')\n",
        "    pyplot.xlabel('Capacidad adquisitiva 1,000s')\n"
      ]
    },
    {
      "cell_type": "code",
      "execution_count": 11,
      "metadata": {
        "colab": {
          "base_uri": "https://localhost:8080/",
          "height": 279
        },
        "id": "k51x70dt9B5D",
        "outputId": "cae41f0a-898b-4a99-fd73-6f97be62c951"
      },
      "outputs": [
        {
          "output_type": "display_data",
          "data": {
            "text/plain": [
              "<Figure size 432x288 with 1 Axes>"
            ],
            "image/png": "[encoded data removed]"
          },
          "metadata": {
            "needs_background": "light"
          }
        }
      ],
      "source": [
        "plotData(X, y)"
      ]
    },
    {
      "cell_type": "code",
      "execution_count": 12,
      "metadata": {
        "id": "C4EFyCGs9B5D"
      },
      "outputs": [],
      "source": [
        "X = np.concatenate([X, X * X], axis=1)"
      ]
    },
    {
      "cell_type": "code",
      "execution_count": 13,
      "metadata": {
        "colab": {
          "base_uri": "https://localhost:8080/"
        },
        "id": "-ywnkafP9B5E",
        "outputId": "0c8549f7-c9b8-420f-99b2-fa84fd9a5bf7"
      },
      "outputs": [
        {
          "output_type": "stream",
          "name": "stdout",
          "text": [
            "[[4.0000e+00 8.0000e+00 6.0000e+00 1.6000e+01 6.4000e+01 3.6000e+01]\n",
            " [7.0000e+00 3.0000e+00 9.0000e+00 4.9000e+01 9.0000e+00 8.1000e+01]\n",
            " [1.0000e+01 1.2000e+01 1.5000e+01 1.0000e+02 1.4400e+02 2.2500e+02]\n",
            " [1.5000e+01 1.7000e+01 1.7000e+01 2.2500e+02 2.8900e+02 2.8900e+02]\n",
            " [1.8000e+01 2.0000e+01 1.8000e+01 3.2400e+02 4.0000e+02 3.2400e+02]\n",
            " [2.2000e+01 2.5000e+01 2.7000e+01 4.8400e+02 6.2500e+02 7.2900e+02]\n",
            " [2.4000e+01 2.6000e+01 2.7000e+01 5.7600e+02 6.7600e+02 7.2900e+02]\n",
            " [2.7000e+01 2.6000e+01 2.7000e+01 7.2900e+02 6.7600e+02 7.2900e+02]\n",
            " [2.9000e+01 2.9000e+01 3.0000e+01 8.4100e+02 8.4100e+02 9.0000e+02]\n",
            " [3.1000e+01 3.1000e+01 3.3000e+01 9.6100e+02 9.6100e+02 1.0890e+03]\n",
            " [3.4000e+01 3.0000e+01 3.6000e+01 1.1560e+03 9.0000e+02 1.2960e+03]\n",
            " [3.6000e+01 3.8000e+01 4.0000e+01 1.2960e+03 1.4440e+03 1.6000e+03]\n",
            " [3.7000e+01 4.1000e+01 4.8000e+01 1.3690e+03 1.6810e+03 2.3040e+03]\n",
            " [4.3000e+01 4.4000e+01 4.5000e+01 1.8490e+03 1.9360e+03 2.0250e+03]\n",
            " [4.6000e+01 4.7000e+01 4.8000e+01 2.1160e+03 2.2090e+03 2.3040e+03]\n",
            " [4.9000e+01 5.2000e+01 5.5000e+01 2.4010e+03 2.7040e+03 3.0250e+03]\n",
            " [5.2000e+01 5.2000e+01 5.1000e+01 2.7040e+03 2.7040e+03 2.6010e+03]\n",
            " [5.5000e+01 5.6000e+01 5.7000e+01 3.0250e+03 3.1360e+03 3.2490e+03]\n",
            " [5.8000e+01 5.9000e+01 6.2000e+01 3.3640e+03 3.4810e+03 3.8440e+03]\n",
            " [6.1000e+01 6.2000e+01 6.6000e+01 3.7210e+03 3.8440e+03 4.3560e+03]\n",
            " [6.4000e+01 6.5000e+01 6.8000e+01 4.0960e+03 4.2250e+03 4.6240e+03]\n",
            " [6.7000e+01 6.8000e+01 7.0000e+01 4.4890e+03 4.6240e+03 4.9000e+03]\n",
            " [7.0000e+01 7.1000e+01 7.2000e+01 4.9000e+03 5.0410e+03 5.1840e+03]\n",
            " [7.9000e+01 8.4000e+01 6.5000e+01 6.2410e+03 7.0560e+03 4.2250e+03]\n",
            " [7.3000e+01 7.5000e+01 7.4000e+01 5.3290e+03 5.6250e+03 5.4760e+03]\n",
            " [7.9000e+01 8.0000e+01 8.1000e+01 6.2410e+03 6.4000e+03 6.5610e+03]\n",
            " [8.2000e+01 8.6000e+01 8.7000e+01 6.7240e+03 7.3960e+03 7.5690e+03]\n",
            " [8.5000e+01 8.6000e+01 8.8000e+01 7.2250e+03 7.3960e+03 7.7440e+03]\n",
            " [8.6000e+01 8.5000e+01 9.0000e+01 7.3960e+03 7.2250e+03 8.1000e+03]\n",
            " [9.1000e+01 9.2000e+01 9.3000e+01 8.2810e+03 8.4640e+03 8.6490e+03]\n",
            " [9.4000e+01 9.5000e+01 9.6000e+01 8.8360e+03 9.0250e+03 9.2160e+03]\n",
            " [9.5000e+01 9.8000e+01 9.8000e+01 9.0250e+03 9.6040e+03 9.6040e+03]\n",
            " [1.0000e+02 1.0100e+02 1.0400e+02 1.0000e+04 1.0201e+04 1.0816e+04]\n",
            " [1.0300e+02 1.0400e+02 1.0800e+02 1.0609e+04 1.0816e+04 1.1664e+04]\n",
            " [1.0600e+02 1.0700e+02 1.0900e+02 1.1236e+04 1.1449e+04 1.1881e+04]\n",
            " [1.0900e+02 1.1000e+02 1.1100e+02 1.1881e+04 1.2100e+04 1.2321e+04]\n",
            " [1.1200e+02 1.1300e+02 1.1400e+02 1.2544e+04 1.2769e+04 1.2996e+04]\n",
            " [1.1700e+02 1.1900e+02 1.2100e+02 1.3689e+04 1.4161e+04 1.4641e+04]\n",
            " [1.2000e+02 1.2900e+02 1.3000e+02 1.4400e+04 1.6641e+04 1.6900e+04]\n",
            " [1.2300e+02 1.2800e+02 1.2900e+02 1.5129e+04 1.6384e+04 1.6641e+04]\n",
            " [1.2600e+02 1.3500e+02 1.3700e+02 1.5876e+04 1.8225e+04 1.8769e+04]\n",
            " [1.2700e+02 1.2800e+02 1.2900e+02 1.6129e+04 1.6384e+04 1.6641e+04]\n",
            " [1.3000e+02 1.3100e+02 1.3200e+02 1.6900e+04 1.7161e+04 1.7424e+04]\n",
            " [1.3300e+02 1.3400e+02 1.3500e+02 1.7689e+04 1.7956e+04 1.8225e+04]\n",
            " [1.3600e+02 1.3700e+02 1.3800e+02 1.8496e+04 1.8769e+04 1.9044e+04]\n",
            " [1.3900e+02 1.4000e+02 1.4100e+02 1.9321e+04 1.9600e+04 1.9881e+04]\n",
            " [1.4200e+02 1.4300e+02 1.4400e+02 2.0164e+04 2.0449e+04 2.0736e+04]\n",
            " [1.4500e+02 1.4600e+02 1.4700e+02 2.1025e+04 2.1316e+04 2.1609e+04]\n",
            " [1.4800e+02 1.4900e+02 1.5000e+02 2.1904e+04 2.2201e+04 2.2500e+04]]\n"
          ]
        }
      ],
      "source": [
        "print(X)"
      ]
    },
    {
      "cell_type": "code",
      "execution_count": 14,
      "metadata": {
        "id": "IYJ2E1T59B5E"
      },
      "outputs": [],
      "source": [
        "def  featureNormalize(X):\n",
        "    X_norm = X.copy()\n",
        "    mu = np.zeros(X.shape[1])\n",
        "    sigma = np.zeros(X.shape[1])\n",
        "\n",
        "    mu = np.mean(X, axis = 0)\n",
        "    sigma = np.std(X, axis = 0)\n",
        "    X_norm = (X - mu) / sigma\n",
        "    \n",
        "    return X_norm, mu, sigma"
      ]
    },
    {
      "cell_type": "code",
      "execution_count": 15,
      "metadata": {
        "id": "3GmXYXlp9B5E"
      },
      "outputs": [],
      "source": [
        "# llama featureNormalize con los datos cargados\n",
        "X_norm, mu, sigma = featureNormalize(X)\n",
        "\n"
      ]
    },
    {
      "cell_type": "markdown",
      "metadata": {
        "id": "mtjZN37n9B5F"
      },
      "source": [
        "Despues de `featureNormalize` la funcion es provada, se añade el temino de interseccion a `X_norm`:"
      ]
    },
    {
      "cell_type": "code",
      "execution_count": 16,
      "metadata": {
        "colab": {
          "base_uri": "https://localhost:8080/",
          "height": 279
        },
        "id": "wyZf2SUV9B5F",
        "outputId": "68bd1447-7e43-4c68-8f3f-eb65cc695242"
      },
      "outputs": [
        {
          "output_type": "display_data",
          "data": {
            "text/plain": [
              "<Figure size 432x288 with 1 Axes>"
            ],
            "image/png": "[encoded data removed]"
          },
          "metadata": {
            "needs_background": "light"
          }
        }
      ],
      "source": [
        "plotData(X_norm, y)"
      ]
    },
    {
      "cell_type": "code",
      "execution_count": 17,
      "metadata": {
        "id": "nbHQvsVZ9B5F"
      },
      "outputs": [],
      "source": [
        "# Añade el termino de interseccion a X\n",
        "# (Columna de unos para X0)\n",
        "#X_norm = np.concatenate([X_norm, X_norm * X_norm], axis=1)\n",
        "X = np.concatenate([np.ones((m, 1)), X_norm], axis=1)"
      ]
    },
    {
      "cell_type": "code",
      "execution_count": 18,
      "metadata": {
        "colab": {
          "base_uri": "https://localhost:8080/"
        },
        "id": "65pwOHdb9B5F",
        "outputId": "3b491cf1-4f22-44fa-a317-a665c76e81f0"
      },
      "outputs": [
        {
          "output_type": "stream",
          "name": "stdout",
          "text": [
            "[[ 1.00000000e+00 -1.70841787e+00 -1.63049509e+00 -1.71276737e+00\n",
            "  -1.13769676e+00 -1.13792117e+00 -1.15184563e+00]\n",
            " [ 1.00000000e+00 -1.63753516e+00 -1.74712905e+00 -1.64251715e+00\n",
            "  -1.13275540e+00 -1.14590214e+00 -1.14540776e+00]\n",
            " [ 1.00000000e+00 -1.56665246e+00 -1.53718793e+00 -1.50201670e+00\n",
            "  -1.12511874e+00 -1.12631248e+00 -1.12480655e+00]\n",
            " [ 1.00000000e+00 -1.44851461e+00 -1.42055397e+00 -1.45518322e+00\n",
            "  -1.10640144e+00 -1.10527173e+00 -1.11565046e+00]\n",
            " [ 1.00000000e+00 -1.37763191e+00 -1.35057360e+00 -1.43176647e+00\n",
            "  -1.09157735e+00 -1.08916467e+00 -1.11064322e+00]\n",
            " [ 1.00000000e+00 -1.28312163e+00 -1.23393964e+00 -1.22101580e+00\n",
            "  -1.06761921e+00 -1.05651523e+00 -1.05270233e+00]\n",
            " [ 1.00000000e+00 -1.23586650e+00 -1.21061285e+00 -1.22101580e+00\n",
            "  -1.05384328e+00 -1.04911469e+00 -1.05270233e+00]\n",
            " [ 1.00000000e+00 -1.16498379e+00 -1.21061285e+00 -1.22101580e+00\n",
            "  -1.03093331e+00 -1.04911469e+00 -1.05270233e+00]\n",
            " [ 1.00000000e+00 -1.11772865e+00 -1.14063248e+00 -1.15076558e+00\n",
            "  -1.01416262e+00 -1.02517176e+00 -1.02823840e+00]\n",
            " [ 1.00000000e+00 -1.07047352e+00 -1.09397890e+00 -1.08051535e+00\n",
            "  -9.96194013e-01 -1.00775873e+00 -1.00119932e+00]\n",
            " [ 1.00000000e+00 -9.99590811e-01 -1.11730569e+00 -1.01026513e+00\n",
            "  -9.66995033e-01 -1.01661035e+00 -9.71585084e-01]\n",
            " [ 1.00000000e+00 -9.52335674e-01 -9.30691360e-01 -9.16598164e-01\n",
            "  -9.46031663e-01 -9.37671257e-01 -9.28093650e-01]\n",
            " [ 1.00000000e+00 -9.28708105e-01 -8.60710986e-01 -7.29264232e-01\n",
            "  -9.35100763e-01 -9.03280511e-01 -8.27376645e-01]\n",
            " [ 1.00000000e+00 -7.86942693e-01 -7.90730613e-01 -7.99514457e-01\n",
            "  -8.63226352e-01 -8.66277809e-01 -8.67291481e-01]\n",
            " [ 1.00000000e+00 -7.16059988e-01 -7.20750240e-01 -7.29264232e-01\n",
            "  -8.23246210e-01 -8.26663152e-01 -8.27376645e-01]\n",
            " [ 1.00000000e+00 -6.45177282e-01 -6.04116284e-01 -5.65347042e-01\n",
            "  -7.80570778e-01 -7.54834379e-01 -7.24227554e-01]\n",
            " [ 1.00000000e+00 -5.74294576e-01 -6.04116284e-01 -6.59014008e-01\n",
            "  -7.35200056e-01 -7.54834379e-01 -7.84886659e-01]\n",
            " [ 1.00000000e+00 -5.03411870e-01 -5.10809120e-01 -5.18513560e-01\n",
            "  -6.87134043e-01 -6.92147450e-01 -6.92181234e-01]\n",
            " [ 1.00000000e+00 -4.32529164e-01 -4.40828746e-01 -4.01429853e-01\n",
            "  -6.36372740e-01 -6.42084971e-01 -6.07058198e-01]\n",
            " [ 1.00000000e+00 -3.61646458e-01 -3.70848373e-01 -3.07762887e-01\n",
            "  -5.82916146e-01 -5.89410537e-01 -5.33809467e-01]\n",
            " [ 1.00000000e+00 -2.90763753e-01 -3.00868000e-01 -2.60929404e-01\n",
            "  -5.26764262e-01 -5.34124148e-01 -4.95468335e-01]\n",
            " [ 1.00000000e+00 -2.19881047e-01 -2.30887626e-01 -2.14095921e-01\n",
            "  -4.67917088e-01 -4.76225804e-01 -4.55982691e-01]\n",
            " [ 1.00000000e+00 -1.48998341e-01 -1.60907253e-01 -1.67262439e-01\n",
            "  -4.06374623e-01 -4.15715504e-01 -4.15352536e-01]\n",
            " [ 1.00000000e+00  6.36497767e-02  1.42341031e-01 -3.31179628e-01\n",
            "  -2.05575485e-01 -1.23321608e-01 -5.52550842e-01]\n",
            " [ 1.00000000e+00 -7.81156350e-02 -6.76000885e-02 -1.20428956e-01\n",
            "  -3.42136867e-01 -3.30972062e-01 -3.73577869e-01]\n",
            " [ 1.00000000e+00  6.36497767e-02  4.90338670e-02  4.34882340e-02\n",
            "  -2.05575485e-01 -2.18512871e-01 -2.18353508e-01]\n",
            " [ 1.00000000e+00  1.34532483e-01  1.88994614e-01  1.83988682e-01\n",
            "  -1.33251859e-01 -7.39846730e-02 -7.41450699e-02]\n",
            " [ 1.00000000e+00  2.05415188e-01  1.88994614e-01  2.07405424e-01\n",
            "  -5.82329416e-02 -7.39846730e-02 -4.91088827e-02]\n",
            " [ 1.00000000e+00  2.29042757e-01  1.65667823e-01  2.54238907e-01\n",
            "  -3.26276825e-02 -9.87982493e-02  1.82187531e-03]\n",
            " [ 1.00000000e+00  3.47180600e-01  3.28955360e-01  3.24489131e-01\n",
            "   9.98907639e-02  8.09913470e-02  8.03639712e-02]\n",
            " [ 1.00000000e+00  4.18063306e-01  3.98935734e-01  3.94739355e-01\n",
            "   1.82995552e-01  1.62397290e-01  1.61481218e-01]\n",
            " [ 1.00000000e+00  4.41690874e-01  4.68916107e-01  4.41572838e-01\n",
            "   2.11296102e-01  2.46415189e-01  2.16990021e-01]\n",
            " [ 1.00000000e+00  5.59828718e-01  5.38896480e-01  5.82073286e-01\n",
            "   3.57291000e-01  3.33045043e-01  3.90383501e-01]\n",
            " [ 1.00000000e+00  6.30711423e-01  6.08876854e-01  6.75740252e-01\n",
            "   4.48481660e-01  4.22286852e-01  5.11701711e-01]\n",
            " [ 1.00000000e+00  7.01594129e-01  6.78857227e-01  6.99156993e-01\n",
            "   5.42367610e-01  5.14140616e-01  5.42746583e-01]\n",
            " [ 1.00000000e+00  7.72476835e-01  7.48837600e-01  7.45990476e-01\n",
            "   6.38948851e-01  6.08606337e-01  6.05694711e-01]\n",
            " [ 1.00000000e+00  8.43359541e-01  8.18817974e-01  8.16240700e-01\n",
            "   7.38225382e-01  7.05684012e-01  7.02262862e-01]\n",
            " [ 1.00000000e+00  9.61497384e-01  9.58778720e-01  9.80157890e-01\n",
            "   9.09675801e-01  9.07675229e-01  9.37603022e-01]\n",
            " [ 1.00000000e+00  1.03238009e+00  1.19204663e+00  1.19090856e+00\n",
            "   1.01613977e+00  1.26754464e+00  1.26078443e+00]\n",
            " [ 1.00000000e+00  1.10326280e+00  1.16871984e+00  1.16749182e+00\n",
            "   1.12529904e+00  1.23025172e+00  1.22373088e+00]\n",
            " [ 1.00000000e+00  1.17414550e+00  1.33200738e+00  1.35482575e+00\n",
            "   1.23715359e+00  1.49739671e+00  1.52817091e+00]\n",
            " [ 1.00000000e+00  1.19777307e+00  1.16871984e+00  1.16749182e+00\n",
            "   1.27503739e+00  1.23025172e+00  1.22373088e+00]\n",
            " [ 1.00000000e+00  1.26865578e+00  1.23870021e+00  1.23774205e+00\n",
            "   1.39048567e+00  1.34300113e+00  1.33574993e+00]\n",
            " [ 1.00000000e+00  1.33953848e+00  1.30868059e+00  1.30799227e+00\n",
            "   1.50862923e+00  1.45836249e+00  1.45034414e+00]\n",
            " [ 1.00000000e+00  1.41042119e+00  1.37866096e+00  1.37824249e+00\n",
            "   1.62946809e+00  1.57633581e+00  1.56751349e+00]\n",
            " [ 1.00000000e+00  1.48130389e+00  1.44864133e+00  1.44849272e+00\n",
            "   1.75300223e+00  1.69692108e+00  1.68725800e+00]\n",
            " [ 1.00000000e+00  1.55218660e+00  1.51862171e+00  1.51874294e+00\n",
            "   1.87923167e+00  1.82011831e+00  1.80957766e+00]\n",
            " [ 1.00000000e+00  1.62306931e+00  1.58860208e+00  1.58899317e+00\n",
            "   2.00815639e+00  1.94592750e+00  1.93447246e+00]\n",
            " [ 1.00000000e+00  1.69395201e+00  1.65858245e+00  1.65924339e+00\n",
            "   2.13977641e+00  2.07434864e+00  2.06194242e+00]]\n"
          ]
        }
      ],
      "source": [
        "print(X)"
      ]
    },
    {
      "cell_type": "markdown",
      "metadata": {
        "id": "ejIWPYMZ9B5F"
      },
      "source": [
        "<a id=\"section5\"></a>\n",
        "### 2.2 Descenso por el gradiente\n",
        "\n",
        "En el ejemplo anterior se implemento el descenso por el gradiente para un problema de regresion univariable. La unica diferencia es que ahora existe una caracteristica adicional en la matriz $X$. La función de hipótesis y la regla de actualización del descenso del gradiente por lotes permanecen sin cambios.\n",
        "\n",
        "La implementacion de las funciones `computeCostMulti` y `gradientDescentMulti` son similares a la funcion de costo y función de descenso por el gradiente de la regresión lineal multiple es similar al de la regresion lineal multivariable. Es importante garantizar que el codigo soporte cualquier numero de caracteristicas y esten bien vectorizadas.\n",
        "\n",
        "Se puede utilizar `shape`, propiedad de los arrays `numpy`, para identificar cuantas caracteristicas estan consideradas en el dataset.\n",
        "\n",
        "<div class=\"alert alert-block alert-warning\">\n",
        "**Nota de implementación:** En el caso de multivariables, la función de costo puede se escrita considerando la forma vectorizada de la siguiente manera:\n",
        "\n",
        "$$ J(\\theta) = \\frac{1}{2m}(X\\theta - \\vec{y})^T(X\\theta - \\vec{y}) $$\n",
        "\n",
        "donde:\n",
        "\n",
        "$$ X = \\begin{pmatrix}\n",
        "          - (x^{(1)})^T - \\\\\n",
        "          - (x^{(2)})^T - \\\\\n",
        "          \\vdots \\\\\n",
        "          - (x^{(m)})^T - \\\\ \\\\\n",
        "        \\end{pmatrix} \\qquad \\mathbf{y} = \\begin{bmatrix} y^{(1)} \\\\ y^{(2)} \\\\ \\vdots \\\\ y^{(m)} \\\\\\end{bmatrix}$$\n",
        "\n",
        "La version vectorizada es eficiente cuando se trabaja con herramientas de calculo numericos computacional como `numpy`. \n",
        "</div>\n",
        "\n",
        "<a id=\"computeCostMulti\"></a>"
      ]
    },
    {
      "cell_type": "code",
      "execution_count": 19,
      "metadata": {
        "id": "AXrQGcgf9B5G"
      },
      "outputs": [],
      "source": [
        "def computeCostMulti(X, y, theta):\n",
        "    # Inicializa algunos valores utiles\n",
        "    m = y.shape[0] # numero de ejemplos de entrenamiento\n",
        "    \n",
        "    J = 0\n",
        "    \n",
        "    h = np.dot(X, theta)\n",
        "    \n",
        "    J = (1/(2 * m)) * np.sum(np.square(np.dot(X, theta) - y))\n",
        "    \n",
        "    return J\n"
      ]
    },
    {
      "cell_type": "code",
      "execution_count": 20,
      "metadata": {
        "id": "PDQ_Sr7Z9B5G"
      },
      "outputs": [],
      "source": [
        "def gradientDescentMulti(X, y, theta, alpha, num_iters):\n",
        "    \n",
        "    # Inicializa algunos valores \n",
        "    m = y.shape[0] # numero de ejemplos de entrenamiento\n",
        "    \n",
        "    # realiza una copia de theta, el cual será acutalizada por el descenso por el gradiente\n",
        "    theta = theta.copy()\n",
        "    \n",
        "    J_history = []\n",
        "    \n",
        "    for i in range(num_iters):\n",
        "        theta = theta - (alpha / m) * (np.dot(X, theta) - y).dot(X)\n",
        "        J_history.append(computeCostMulti(X, y, theta))\n",
        "    \n",
        "    return theta, J_history"
      ]
    },
    {
      "cell_type": "markdown",
      "metadata": {
        "id": "YgeZf5Pc9B5G"
      },
      "source": [
        "#### 3.2.1 Seleccionando coheficientes de aprendizaje\n"
      ]
    },
    {
      "cell_type": "code",
      "execution_count": 21,
      "metadata": {
        "colab": {
          "base_uri": "https://localhost:8080/",
          "height": 331
        },
        "id": "rIUXxlk69B5G",
        "outputId": "0435b67a-9b06-41e0-c60d-3f10e5fe7d9f"
      },
      "outputs": [
        {
          "output_type": "stream",
          "name": "stdout",
          "text": [
            "theta calculado por el descenso por el gradiente: [ 2.04489796  1.18497419  1.1936616   1.27631774 -1.49874058 -1.2900892\n",
            " -1.26536919]\n",
            "los casos de neumonia  (usando el descenso por el gradiente): $9\n"
          ]
        },
        {
          "output_type": "display_data",
          "data": {
            "text/plain": [
              "<Figure size 432x288 with 1 Axes>"
            ],
            "image/png": "[encoded data removed]"
          },
          "metadata": {
            "needs_background": "light"
          }
        }
      ],
      "source": [
        "# Elegir algun valor para alpha (probar varias alternativas)\n",
        "alpha = 0.001\n",
        "num_iters = 100000\n",
        "\n",
        "# inicializa theta y ejecuta el descenso por el gradiente\n",
        "theta = np.zeros(7)\n",
        "theta, J_history = gradientDescentMulti(X, y, theta, alpha, num_iters)\n",
        "\n",
        "# Grafica \n",
        "pyplot.plot(np.arange(len(J_history)), J_history, lw=2)\n",
        "pyplot.xlabel('Numero de iteraciones')\n",
        "pyplot.ylabel('Costo J')\n",
        "\n",
        "# Muestra los resultados del descenso por el gradiente\n",
        "print('theta calculado por el descenso por el gradiente: {:s}'.format(str(theta)))\n",
        "\n",
        "# 5 casos 34 casos y 56 casos  a mediados de marzo\n",
        "\n",
        "X_array = [5, 34, 56,3.56]\n",
        "X_array[1:4] = (X_array[3:6] - mu) / sigma\n",
        "price = np.dot(X_array, theta) \n",
        "\n",
        "print('los casos de neumonia  (usando el descenso por el gradiente): ${:.0f}'.format(price))"
      ]
    },
    {
      "cell_type": "code",
      "execution_count": 22,
      "metadata": {
        "colab": {
          "base_uri": "https://localhost:8080/",
          "height": 296
        },
        "id": "AcRsRvFQ9B5G",
        "outputId": "4858c357-d9f3-4107-9e9b-e0c5b30deb3e"
      },
      "outputs": [
        {
          "output_type": "execute_result",
          "data": {
            "text/plain": [
              "[<matplotlib.lines.Line2D at 0x7f765a95ed50>]"
            ]
          },
          "metadata": {},
          "execution_count": 22
        },
        {
          "output_type": "display_data",
          "data": {
            "text/plain": [
              "<Figure size 432x288 with 1 Axes>"
            ],
            "image/png": "[encoded data removed]"
          },
          "metadata": {
            "needs_background": "light"
          }
        }
      ],
      "source": [
        "plotData(X[:, 1], y)\n",
        "pyplot.plot(X[:, 1], np.dot(X, theta), '-')"
      ]
    },
    {
      "cell_type": "code",
      "execution_count": 23,
      "metadata": {
        "id": "SlY5GiBK9B5G"
      },
      "outputs": [],
      "source": [
        "X_array = [44, 23, 52,3.2]\n",
        "X_array[1:4] = (X_array[3:6] - mu) / sigma"
      ]
    },
    {
      "cell_type": "code",
      "execution_count": 24,
      "metadata": {
        "id": "tJ3hCOwl9B5G",
        "outputId": "d3321e32-9a3f-4cd8-c3ff-b9b41da13a5b",
        "colab": {
          "base_uri": "https://localhost:8080/"
        }
      },
      "outputs": [
        {
          "output_type": "stream",
          "name": "stdout",
          "text": [
            "88.22988347130844\n"
          ]
        }
      ],
      "source": [
        "X_array[1:3]\n",
        "print(np.dot(X_array, theta))"
      ]
    },
    {
      "cell_type": "markdown",
      "metadata": {
        "id": "2Cbyh5UW9B5H"
      },
      "source": [
        "<a id=\"section7\"></a>\n",
        "### 2.3 Ecuacion de la Normal\n",
        "\n",
        "Una manera de calcular rapidamente el modelo de una regresion lineal es:\n",
        "\n",
        "$$ \\theta = \\left( X^T X\\right)^{-1} X^T\\vec{y}$$\n",
        "\n",
        "Utilizando esta formula no requiere que se escale ninguna caracteristica, y se obtendra una solucion exacta con un solo calculo: no hay “bucles de convergencia” como en el descenso por el gradiente. \n",
        "\n",
        "Primero se recargan los datos para garantizar que las variables no esten modificadas. Recordar que no es necesario escalar las caracteristicas, se debe agregar la columna de unos a la matriz $X$ para tener el termino de intersección($\\theta_0$). "
      ]
    },
    {
      "cell_type": "code",
      "execution_count": 25,
      "metadata": {
        "id": "AMlouZTP9B5H"
      },
      "outputs": [],
      "source": [
        "# Cargar datos\n",
        "data = np.loadtxt('/content/gdrive/MyDrive/Colab Notebooks/Labs/data12.txt', delimiter=\",\",skiprows=1)\n",
        "#print(data)\n",
        "y = data[:, -1]\n",
        "X = data[:,:3]\n",
        "m = y.size\n",
        "X_original = X.copy()\n",
        "X = np.concatenate([X, X * X], axis=1)\n",
        "X = np.concatenate([np.ones((m, 1)), X], axis=1)"
      ]
    },
    {
      "cell_type": "code",
      "execution_count": 26,
      "metadata": {
        "id": "POZIn2K39B5H"
      },
      "outputs": [],
      "source": [
        "def normalEqn(X, y):\n",
        "  \n",
        "    theta = np.zeros(X.shape[1])\n",
        "    \n",
        "    theta = np.dot(np.dot(np.linalg.inv(np.dot(X.T,X)),X.T),y)\n",
        "    \n",
        "    return theta"
      ]
    },
    {
      "cell_type": "code",
      "execution_count": 27,
      "metadata": {
        "id": "NNDsWCJ39B5H",
        "colab": {
          "base_uri": "https://localhost:8080/"
        },
        "outputId": "b3f91b5e-d309-4318-c721-38dcfd03025a"
      },
      "outputs": [
        {
          "output_type": "stream",
          "name": "stdout",
          "text": [
            "Theta calculado a partir de la ecuación de la normal: [-0.0184716   0.04571702 -0.02463744  0.06546491 -0.00035865  0.000185\n",
            " -0.00042274]\n",
            "los casos de neumonia (usando la ecuación de la normal): $-1\n"
          ]
        }
      ],
      "source": [
        "# Calcula los parametros con la ecuación de la normal\n",
        "theta = normalEqn(X, y);\n",
        "\n",
        "# Muestra los resultados optenidos a partir de la aplicación de la ecuación de la normal\n",
        "print('Theta calculado a partir de la ecuación de la normal: {:s}'.format(str(theta)));\n",
        "\n",
        "# Estimar el precio para una casa de superficie de 1650 sq-ft y tres dormitorios\n",
        "\n",
        "X_array = [32, 34, 56,3.56]\n",
        "X_array[1:4] = (X_array[3:7] - mu) / sigma\n",
        "price = np.dot(X_array, theta) \n",
        "\n",
        "print('los casos de neumonia (usando la ecuación de la normal): ${:.0f}'.format(price))"
      ]
    },
    {
      "cell_type": "code",
      "execution_count": 28,
      "metadata": {
        "id": "oDPCkGzf9B5H",
        "colab": {
          "base_uri": "https://localhost:8080/",
          "height": 296
        },
        "outputId": "7d2cead4-65f7-493f-8295-6e2f5d7caa14"
      },
      "outputs": [
        {
          "output_type": "execute_result",
          "data": {
            "text/plain": [
              "[<matplotlib.lines.Line2D at 0x7f765ad906d0>]"
            ]
          },
          "metadata": {},
          "execution_count": 28
        },
        {
          "output_type": "display_data",
          "data": {
            "text/plain": [
              "<Figure size 432x288 with 1 Axes>"
            ],
            "image/png": "[encoded data removed]"
          },
          "metadata": {
            "needs_background": "light"
          }
        }
      ],
      "source": [
        "plotData(X[:, 1], y)\n",
        "#X = np.concatenate([np.ones((m, 1)), X], axis=1)\n",
        "#X = np.concatenate([X, X * X], axis=1)\n",
        "\n",
        "pyplot.plot(X[:, 1], np.dot(X, theta), '-')"
      ]
    },
    {
      "cell_type": "code",
      "source": [
        ""
      ],
      "metadata": {
        "id": "rQb8WWL3OyKj"
      },
      "execution_count": 28,
      "outputs": []
    }
  ],
  "metadata": {
    "colab": {
      "name": "reg_pol_01.ipynb",
      "provenance": [],
      "collapsed_sections": []
    },
    "kernelspec": {
      "display_name": "Python 3",
      "language": "python",
      "name": "python3"
    },
    "language_info": {
      "codemirror_mode": {
        "name": "ipython",
        "version": 3
      },
      "file_extension": ".py",
      "mimetype": "text/x-python",
      "name": "python",
      "nbconvert_exporter": "python",
      "pygments_lexer": "ipython3",
      "version": "3.8.5"
    }
  },
  "nbformat": 4,
  "nbformat_minor": 0
}