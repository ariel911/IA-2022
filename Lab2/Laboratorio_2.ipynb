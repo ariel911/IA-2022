{
  "nbformat": 4,
  "nbformat_minor": 0,
  "metadata": {
    "colab": {
      "name": "Laboratorio_2.ipynb",
      "provenance": [],
      "collapsed_sections": []
    },
    "kernelspec": {
      "name": "python3",
      "display_name": "Python 3"
    },
    "language_info": {
      "name": "python"
    }
  },
  "cells": [
    {
      "cell_type": "code",
      "execution_count": 1,
      "metadata": {
        "colab": {
          "base_uri": "https://localhost:8080/"
        },
        "id": "ziF5c7ww_zsC",
        "outputId": "5a8dc613-38d2-4e8a-f83f-73e4a9651f8d"
      },
      "outputs": [
        {
          "output_type": "stream",
          "name": "stdout",
          "text": [
            "Mounted at /content/gdrive/\n"
          ]
        }
      ],
      "source": [
        "from google.colab import drive\n",
        "drive.mount('/content/gdrive/')"
      ]
    },
    {
      "cell_type": "code",
      "source": [
        "import sys\n",
        "sys.path.append('/content/gdrive/MyDrive/Colab Notebooks/')\n",
        "\n",
        "from Nodos import Nodo\n"
      ],
      "metadata": {
        "id": "jYHSZ4yC_38K"
      },
      "execution_count": 2,
      "outputs": []
    },
    {
      "cell_type": "code",
      "source": [
        "#Estudiante:Achu Gabriel Ariel\n",
        "def busqueda_BPA_solucion(estado_inicial, solucion):\n",
        "    resuelto = False\n",
        "    nodos_visitados = []\n",
        "    nodos_frontera = []\n",
        "\n",
        "    nodo_raiz = Nodo(estado_inicial)\n",
        "    nodos_frontera.append(nodo_raiz)\n",
        "    while (not resuelto) and len(nodos_frontera) != 0:\n",
        "        nodo_actual = nodos_frontera.pop(0)\n",
        "        # extraer nodo y añadirlo a visitados\n",
        "        nodos_visitados.append(nodo_actual)\n",
        "        if nodo_actual.get_estado() == solucion:\n",
        "            # solucion encontrada\n",
        "            resuelto = True\n",
        "            return nodo_actual\n",
        "        else:\n",
        "             # expandir nodos hijo\n",
        "            estado_nodo = nodo_actual.get_estado()\n",
        "            cont=0\n",
        "            i=0\n",
        "            hijo_centro=[]\n",
        "            while cont<=len(estado_nodo)-2:\n",
        "              vector2=[]\n",
        "              j=0\n",
        "              while j<=len(estado_nodo)-1:\n",
        "                if j==i and j<=len(estado_nodo)-2:\n",
        "                  vector2.append(estado_nodo[j+1])\n",
        "                  vector2.append(estado_nodo[j])\n",
        "                  j=j+2\n",
        "                else:\n",
        "                  if i==len(estado_nodo)-1:\n",
        "                    vector2.append(estado_nodo[j-1])\n",
        "                    vector2.append(estado_nodo[j])\n",
        "                  else:\n",
        "                    vector2.append(estado_nodo[j])\n",
        "                    j=j+1\n",
        "              i=i+1\n",
        "              hijo_centro.append(Nodo(vector2))\n",
        "\n",
        "              if not hijo_centro[cont].en_lista(nodos_visitados) and not hijo_centro[cont].en_lista(nodos_frontera):\n",
        "                nodos_frontera.append(hijo_centro[cont])\n",
        "              cont=cont+1\n",
        "                \n",
        "            nodo_actual.set_hijo(hijo_centro)\n",
        "\n",
        "\n",
        "if __name__ == \"__main__\":\n",
        "    estado_inicial = [4, 2, 3, 1,5,6,8,7,9,10]\n",
        "    solucion = [1, 2, 3, 4, 5, 6,7,8,9,10]\n",
        "    nodo_solucion = busqueda_BPA_solucion(estado_inicial, solucion)\n",
        "    # mostrar resultado\n",
        "    resultado = []\n",
        "    nodo_actual = nodo_solucion\n",
        "    while nodo_actual.get_padre() is not None:\n",
        "        resultado.append(nodo_actual.get_estado())\n",
        "        nodo_actual = nodo_actual.get_padre()\n",
        "\n",
        "    resultado.append(estado_inicial)\n",
        "    resultado.reverse()\n",
        "    print(resultado)"
      ],
      "metadata": {
        "colab": {
          "base_uri": "https://localhost:8080/"
        },
        "id": "QTpx4YDk_-HH",
        "outputId": "d844df4a-7cb6-4cfb-bef6-825a9ba5e66a"
      },
      "execution_count": 27,
      "outputs": [
        {
          "output_type": "stream",
          "name": "stdout",
          "text": [
            "[[4, 2, 3, 1, 5, 6, 8, 7, 9, 10], [2, 4, 3, 1, 5, 6, 8, 7, 9, 10], [2, 3, 4, 1, 5, 6, 8, 7, 9, 10], [2, 3, 1, 4, 5, 6, 8, 7, 9, 10], [2, 1, 3, 4, 5, 6, 8, 7, 9, 10], [1, 2, 3, 4, 5, 6, 8, 7, 9, 10], [1, 2, 3, 4, 5, 6, 7, 8, 9, 10]]\n"
          ]
        }
      ]
    },
    {
      "cell_type": "code",
      "source": [
        "#pruebas\n",
        "vector = [1,2,3,4,5,6,7]\n",
        "vector3=[]\n",
        "\n",
        "cont=0\n",
        "i=0\n",
        "while cont<=len(vector)-2:\n",
        "  vector2=[]\n",
        "  j=0\n",
        "\n",
        "  while j<=len(vector)-1:\n",
        "    if j==i and j<=len(vector)-2:\n",
        "      vector2.append(vector[j+1])\n",
        "      vector2.append(vector[j])\n",
        "      j=j+2\n",
        "    else:\n",
        "      if i==len(vector)-1:\n",
        "        vector2.append(vector[j-1])\n",
        "        vector2.append(vector[j])\n",
        "      else:\n",
        "        vector2.append(vector[j])\n",
        "        j=j+1\n",
        "\n",
        "  i=i+1\n",
        "  vector3.append(vector2)\n",
        "  cont=cont+1\n",
        "  \n",
        "print(vector)\n",
        "print(vector3)"
      ],
      "metadata": {
        "colab": {
          "base_uri": "https://localhost:8080/"
        },
        "id": "hQC-jF5_ABhH",
        "outputId": "24612ac0-f5d1-4825-b471-f34704520e65"
      },
      "execution_count": 28,
      "outputs": [
        {
          "output_type": "stream",
          "name": "stdout",
          "text": [
            "[1, 2, 3, 4, 5, 6, 7]\n",
            "[[2, 1, 3, 4, 5, 6, 7], [1, 3, 2, 4, 5, 6, 7], [1, 2, 4, 3, 5, 6, 7], [1, 2, 3, 5, 4, 6, 7], [1, 2, 3, 4, 6, 5, 7], [1, 2, 3, 4, 5, 7, 6]]\n"
          ]
        }
      ]
    },
    {
      "cell_type": "code",
      "source": [
        ""
      ],
      "metadata": {
        "id": "ljn3KoDXBlOV"
      },
      "execution_count": null,
      "outputs": []
    }
  ]
}